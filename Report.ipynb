{
 "cells": [
  {
   "cell_type": "markdown",
   "id": "e7747958",
   "metadata": {},
   "source": [
    "# Multi-agent DDPG applied to Tennis game\n",
    "\n",
    "---\n",
    "This project is a part of the Udacity Deep Reinforcement Learning Nano-degree requirement. In this report, I described how I used the Multi-Agent Actor-Critic algorithm [here](https://arxiv.org/pdf/1706.02275v4.pdf) to solve the Tennis game provided by Unity Environment [here](https://github.com/Unity-Technologies/ml-agents/tree/release_12_docs). \n",
    "\n",
    "### The Environment\n",
    "\n",
    "<img src='Tennis.gif' width=\"400\" height=\"250\">\n",
    "\n",
    "The game environment is provided by Unit Technology (please refer to README on how to install). There are two agents controling rackets to bounce a ball across the net. A reward of `+0.1` is earned each time an aent hits the ball over the net within the court boundary. If the ball hits the ground or it is out of the boundary of the court, the agent receices `-0.01`. The environment is considered solved when the max cumulative return of the agents reaches an average of `+0.5` over 100 episodes. \n",
    "\n",
    "The environment is considered cooperative because the agents need to learn how to bounce the ball in a way the the other agent can bounce back easily to keep the game going and therefore earning higher returns."
   ]
  },
  {
   "cell_type": "code",
   "execution_count": 1,
   "id": "0df68139",
   "metadata": {},
   "outputs": [],
   "source": [
    "import numpy as np\n",
    "import torch\n",
    "import matplotlib.pyplot as plt\n",
    "import itertools\n",
    "from collections import namedtuple, deque\n",
    "from MADDPG import MADDPG\n",
    "from Buffer import buffer\n",
    "from unityagents import UnityEnvironment"
   ]
  },
  {
   "cell_type": "code",
   "execution_count": 2,
   "id": "3accf906",
   "metadata": {},
   "outputs": [],
   "source": [
    "# define named tuple to organize the memory operation\n",
    "Transition = namedtuple('Transition', ('state_full','state', 'action_full', 'action', 'reward', 'state_next_full', 'state_next', 'done'))"
   ]
  },
  {
   "cell_type": "code",
   "execution_count": 3,
   "id": "a53287af",
   "metadata": {},
   "outputs": [
    {
     "name": "stderr",
     "output_type": "stream",
     "text": [
      "INFO:unityagents:\n",
      "'Academy' started successfully!\n",
      "Unity Academy name: Academy\n",
      "        Number of Brains: 1\n",
      "        Number of External Brains : 1\n",
      "        Lesson number : 0\n",
      "        Reset Parameters :\n",
      "\t\t\n",
      "Unity brain name: TennisBrain\n",
      "        Number of Visual Observations (per agent): 0\n",
      "        Vector Observation space type: continuous\n",
      "        Vector Observation space size (per agent): 8\n",
      "        Number of stacked Vector Observation: 3\n",
      "        Vector Action space type: continuous\n",
      "        Vector Action space size (per agent): 2\n",
      "        Vector Action descriptions: , \n"
     ]
    }
   ],
   "source": [
    "# import environment - see README on installation\n",
    "env = UnityEnvironment(file_name=\"Tennis_Linux/Tennis.x86_64\")"
   ]
  },
  {
   "cell_type": "markdown",
   "id": "98d3af6f",
   "metadata": {},
   "source": [
    "The observation space consists of `24` continuous variables corresponding to the ball position, agent position, speed etc. collected for three consecutive time framework. The actions are a vector with two continuous variables between `-1` and `1`, corresponding to forward/backward and jump. "
   ]
  },
  {
   "cell_type": "code",
   "execution_count": 4,
   "id": "e440282f",
   "metadata": {},
   "outputs": [
    {
     "name": "stdout",
     "output_type": "stream",
     "text": [
      "Number of agents: 2\n",
      "Size of each action: 2\n",
      "There are 2 agents. Each observes a state with length: 24\n"
     ]
    }
   ],
   "source": [
    "# get the default brain\n",
    "brain_name = env.brain_names[0]\n",
    "brain = env.brains[brain_name]\n",
    "# reset the environment\n",
    "env_info = env.reset(train_mode=True)[brain_name]\n",
    "# number of agents\n",
    "num_agents = len(env_info.agents)\n",
    "print('Number of agents:', num_agents)\n",
    "# size of each action\n",
    "action_size = brain.vector_action_space_size\n",
    "print('Size of each action:', action_size)\n",
    "# examine the state space\n",
    "states = env_info.vector_observations\n",
    "state_size = states.shape[1]\n",
    "print('There are {} agents. Each observes a state with length: {}'.format(states.shape[0], state_size))"
   ]
  },
  {
   "cell_type": "markdown",
   "id": "39c3e35f",
   "metadata": {},
   "source": [
    "### MADDPG (Multi-agent DDPG)\n",
    "\n",
    "[MADDPG](https://arxiv.org/pdf/1706.02275v4.pdf) was introduced to solve both cooperative and competitive environment involving more than one agent under a continuous action space. The difference between MADDPG and a plain vanilla DDPG is that the agents are trained using global observation of the environment state and joint actions of the agents centrally but the agents' policies are evaluated using their private observations and own actions. Multi-agent environment is in general challenging because the environment changes (non-stationary) as the agents' policies evolve and therefore needs careful hyper-parameter tuning.\n",
    "\n",
    "The hyper-parameters are set as following:  \n",
    "1. A neural network with `2` hidden layers with an input dimension of `26` (24 + 2) for the actor and `52` (24*2 + 2*2) for the critic; the first hidden layer has a dimension of `64` for the actor and `128` for the critic; the second hidden layer has a dimension of `32` for the actor and `64` for the critic; the output layer dimension is `2` for the actor and `1` for the critic. A ReLU activation function is applied for all layers except the output layer, where a Tanh function is applied to the actor and no activation function for the critic. Each agent has its own actor and critic network function with the same structure. \n",
    "2. The optimizer is set to Adam optimizer with a learning rate of `0.0025` for both the actor and critic \n",
    "3. TAU, the rate at which the target network is synchronized to the policy network every time step is set to `0.05`\n",
    "4. The memory is set to `100,000` entries, containing the private state, action and reward for each agent, as well as the global state (a concatenation of the private state of the agents).\n",
    "5. The batch size is set to `1024` used in each time step, with a maximum training of 50 times in one episode of play\n",
    "6. The policy noise is set to `2.0` at the beginning, which decays every time step by a factor of `0.9999`. The minimum policy noise is set to `0.4` to keep the agents exploring because the environment is likely to change as the agents' polices evolve.\n",
    "7. The discount factor is set to `0.99`. \n",
    "8. Finally, the number of episode is set to `1500`, which includes `200` episode of random exploring with no policy noise decay."
   ]
  },
  {
   "cell_type": "code",
   "execution_count": 5,
   "id": "35f00450",
   "metadata": {},
   "outputs": [],
   "source": [
    "#device = torch.device('cuda' if torch.cuda.is_available() else 'cpu')\n",
    "device = torch.device('cpu')\n",
    "\n",
    "maddpg_agents = MADDPG(num_agents, state_size*num_agents, action_size*num_agents, state_size, action_size, device)\n",
    "buffer = buffer(num_agents, device)"
   ]
  },
  {
   "cell_type": "code",
   "execution_count": 6,
   "id": "d1343f16",
   "metadata": {},
   "outputs": [],
   "source": [
    "def train(maddpg_agents, n_episodes=1500, n_episodes_wait=200, update_every=1, \\\n",
    "          batch_size=1024, noise_start=2., noise_decay=0.9999, noise_end=0.4, share_experience=False):\n",
    "\n",
    "    noise = noise_start\n",
    "    scores = []\n",
    "    scores_window = deque(maxlen=100)\n",
    "    best_score = -np.inf\n",
    "\n",
    "    for i_episode in range(1, n_episodes+1):\n",
    "        step = 0\n",
    "        score = np.zeros(num_agents)\n",
    "        env_info = env.reset(train_mode=True)[brain_name]\n",
    "        states = env_info.vector_observations\n",
    "        dones = env_info.local_done\n",
    "\n",
    "        while not np.any(dones):\n",
    "            \n",
    "            transitions = []\n",
    "\n",
    "            if i_episode <= n_episodes_wait:\n",
    "                noise = noise_start\n",
    "                actions = np.random.randn(num_agents, action_size)  # select an action (for each agent)\n",
    "                actions = np.clip(actions, -1., 1.)\n",
    "                #actions = maddpg_agents.act(states, noise_start)\n",
    "            else:\n",
    "                actions = maddpg_agents.act(states, noise)\n",
    "\n",
    "            env_info = env.step(actions)[brain_name]\n",
    "            states_next= env_info.vector_observations\n",
    "            rewards = env_info.rewards\n",
    "            dones = env_info.local_done\n",
    "\n",
    "            states_full = states.reshape(1, -1)\n",
    "            actions_full = np.array(actions).reshape(1, -1)\n",
    "            states_next_full = states_next.reshape(1, -1)\n",
    "            for j in range(num_agents):\n",
    "                transitions.append(Transition(states_full, states[j], actions_full, actions[j], rewards[j], states_next_full, states_next[j], dones[j]))\n",
    "            buffer.cache(transitions)\n",
    "            if share_experience:\n",
    "                # transitions = list(itertools.permutations(transitions))\n",
    "                # for t in transitions:\n",
    "                #     buffer.cache(t)\n",
    "                transitions.reverse()\n",
    "                buffer.cache(transitions)\n",
    "\n",
    "            score += rewards\n",
    "            states = states_next\n",
    "            noise *= noise_decay\n",
    "            noise = max(noise_end, noise)\n",
    "            step += 1\n",
    "\n",
    "            if (len(buffer.memory) >= batch_size) and ((i_episode % update_every) == 0) and step<50:\n",
    "                for agent_id in range(num_agents):\n",
    "                    experiences = buffer.sample(batch_size)\n",
    "                    maddpg_agents.learn(experiences, agent_id)\n",
    "                maddpg_agents.soft_update()\n",
    "\n",
    "        scores_window.append(max(score))\n",
    "        scores.append(max(score))\n",
    "        if scores[-1] > 0.5 and scores[-1] > best_score:\n",
    "            maddpg_agents.save_checkpoint()\n",
    "        best_score = max(scores[-1], best_score)\n",
    "\n",
    "        print('\\rEpisode {}\\tAverage Score: {:.2f}; noise: {:.2f}'.format(i_episode, np.mean(scores_window),noise), end=\"\")\n",
    "        if (i_episode) % 100 == 0:\n",
    "            print('\\rEpisode {}\\tAverage Score: {:.2f}'.format(i_episode, np.mean(scores_window)))\n",
    "\n",
    "    return scores"
   ]
  },
  {
   "cell_type": "code",
   "execution_count": 7,
   "id": "4e214c65",
   "metadata": {},
   "outputs": [
    {
     "name": "stdout",
     "output_type": "stream",
     "text": [
      "Episode 100\tAverage Score: 0.02; noise: 2.00\n",
      "Episode 200\tAverage Score: 0.02; noise: 2.00\n",
      "Episode 300\tAverage Score: 0.02; noise: 1.68\n",
      "Episode 400\tAverage Score: 0.03; noise: 1.39\n",
      "Episode 500\tAverage Score: 0.04; noise: 1.11\n",
      "Episode 600\tAverage Score: 0.09; noise: 0.77\n",
      "Episode 700\tAverage Score: 0.61; noise: 0.40\n",
      "Episode 800\tAverage Score: 0.62; noise: 0.40\n",
      "Episode 900\tAverage Score: 0.89; noise: 0.40\n",
      "Episode 1000\tAverage Score: 0.38; noise: 0.40\n",
      "Episode 1100\tAverage Score: 0.11; noise: 0.40\n",
      "Episode 1200\tAverage Score: 0.15; noise: 0.40\n",
      "Episode 1300\tAverage Score: 0.20; noise: 0.40\n",
      "Episode 1400\tAverage Score: 0.24; noise: 0.40\n",
      "Episode 1500\tAverage Score: 0.25; noise: 0.40\n"
     ]
    }
   ],
   "source": [
    "scores = train(maddpg_agents, share_experience=False)"
   ]
  },
  {
   "cell_type": "code",
   "execution_count": 8,
   "id": "2e189b58",
   "metadata": {},
   "outputs": [
    {
     "data": {
      "image/png": "[encoded data removed]",
      "text/plain": [
       "<Figure size 432x288 with 1 Axes>"
      ]
     },
     "metadata": {
      "needs_background": "light"
     },
     "output_type": "display_data"
    }
   ],
   "source": [
    "def moving_average(a, n=10) :\n",
    "    ret = np.cumsum(a, dtype=float)\n",
    "    ret[n:] = ret[n:] - ret[:-n]\n",
    "    return ret[n - 1:] / n\n",
    "\n",
    "avg_score = moving_average(scores)\n",
    "# plot the scores\n",
    "fig = plt.figure()\n",
    "ax = fig.add_subplot(111)\n",
    "plt.plot(np.arange(len(scores)), scores, label='score')\n",
    "plt.plot(np.arange(len(avg_score)), avg_score, label='moving average score')\n",
    "plt.ylabel('Score')\n",
    "plt.xlabel('Episode #')\n",
    "ax.legend(loc='upper center')\n",
    "plt.show()"
   ]
  },
  {
   "cell_type": "markdown",
   "id": "2b3e6b94",
   "metadata": {},
   "source": [
    "The MADDPG implementation reaches an average return (overall 100 episodes) of `+0.61` after `700` episode of training and reaches `+0.89` after `900` episode. The environment is solved around episode of `650`. The learning exhibits a lot of oscillations due to the non-stationary nature of the multi-agent environment.\n",
    "\n",
    "The evaluation of the agents' best policies seem to be strong as shown below."
   ]
  },
  {
   "cell_type": "code",
   "execution_count": 9,
   "id": "1412b434",
   "metadata": {},
   "outputs": [
    {
     "name": "stdout",
     "output_type": "stream",
     "text": [
      "\n",
      "Evaluation 0:\n",
      "Total rewards for agent 0: 2.60; agent 1:2.60 \n",
      "Evaluation 1:\n",
      "Total rewards for agent 0: 2.60; agent 1:2.60 \n",
      "Evaluation 2:\n",
      "Total rewards for agent 0: 2.60; agent 1:2.70 \n",
      "Evaluation 3:\n",
      "Total rewards for agent 0: 2.60; agent 1:2.60 \n",
      "Evaluation 4:\n",
      "Total rewards for agent 0: 2.70; agent 1:2.60 "
     ]
    }
   ],
   "source": [
    "# evaluation\n",
    "maddpg_agents.load_checkpoint()\n",
    "num_eval = 5\n",
    "for i_eval in range(num_eval):\n",
    "    cum_rewards = np.zeros(num_agents)\n",
    "    env_info = env.reset(train_mode=False)[brain_name]\n",
    "    states = env_info.vector_observations\n",
    "    print(f'\\nEvaluation {i_eval}:')\n",
    "    while True:\n",
    "        actions=maddpg_agents.act(states, 0.)\n",
    "        env_info = env.step(actions)[brain_name]\n",
    "        states = env_info.vector_observations\n",
    "        rewards = env_info.rewards\n",
    "        dones = env_info.local_done\n",
    "        cum_rewards += rewards\n",
    "        print('\\rTotal rewards for agent 0: {:.2f}; agent 1:{:.2f} '.format(cum_rewards[0], cum_rewards[1]), end=\"\")\n",
    "        if np.any(dones):\n",
    "            break"
   ]
  },
  {
   "cell_type": "code",
   "execution_count": 10,
   "id": "005099b6",
   "metadata": {},
   "outputs": [],
   "source": [
    "env.close()"
   ]
  },
  {
   "cell_type": "markdown",
   "id": "5991f5c5",
   "metadata": {},
   "source": [
    "### Conclusions\n",
    "\n",
    "MADDPG is able to solve this relatively simple cooperative multi-agent environment through the centralized training, local execution approach. Although the learning does exhibit a lot of oscillations due to the non-stationary nature of the environment needed for learning to converge.\n",
    "\n",
    "There are a number of potential future improvements:  \n",
    "1. Systematic fine-tuning of hyper-parameters, e.g. varying learning rates depending on performance, varying policy noise etc.\n",
    "2. Implement ensemble learning discussed in the [original MADDPG paper](https://arxiv.org/pdf/1706.02275v4.pdf)\n",
    "3. Explore allowing communication among agents such as in [this paper](https://openreview.net/pdf?id=HylSk205YQ)\n",
    "4. Explore combining time series model - recurrent neural network to improve robustness of learning under constantly changing environment such as in [this paper](https://openreview.net/pdf?id=Ske_NJK2s4)"
   ]
  },
  {
   "cell_type": "code",
   "execution_count": null,
   "id": "360790ca",
   "metadata": {},
   "outputs": [],
   "source": []
  }
 ],
 "metadata": {
  "kernelspec": {
   "display_name": "Python 3",
   "language": "python",
   "name": "python3"
  },
  "language_info": {
   "codemirror_mode": {
    "name": "ipython",
    "version": 3
   },
   "file_extension": ".py",
   "mimetype": "text/x-python",
   "name": "python",
   "nbconvert_exporter": "python",
   "pygments_lexer": "ipython3",
   "version": "3.6.13"
  }
 },
 "nbformat": 4,
 "nbformat_minor": 5
}
